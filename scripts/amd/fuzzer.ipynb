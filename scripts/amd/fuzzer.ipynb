{
 "cells": [
  {
   "cell_type": "code",
   "execution_count": 105,
   "metadata": {},
   "outputs": [
    {
     "ename": "NameError",
     "evalue": "name 'pandas' is not defined",
     "output_type": "error",
     "traceback": [
      "\u001b[0;31m---------------------------------------------------------------------------\u001b[0m",
      "\u001b[0;31mNameError\u001b[0m                                 Traceback (most recent call last)",
      "\u001b[0;32m<ipython-input-105-337fa8512adb>\u001b[0m in \u001b[0;36m<module>\u001b[0;34m\u001b[0m\n\u001b[1;32m      2\u001b[0m \u001b[0;32mimport\u001b[0m \u001b[0mre\u001b[0m\u001b[0;34m\u001b[0m\u001b[0;34m\u001b[0m\u001b[0m\n\u001b[1;32m      3\u001b[0m \u001b[0;32mimport\u001b[0m \u001b[0mjson\u001b[0m\u001b[0;34m\u001b[0m\u001b[0;34m\u001b[0m\u001b[0m\n\u001b[0;32m----> 4\u001b[0;31m \u001b[0mpandas\u001b[0m\u001b[0;34m.\u001b[0m\u001b[0moptions\u001b[0m\u001b[0;34m.\u001b[0m\u001b[0mdisplay\u001b[0m\u001b[0;34m.\u001b[0m\u001b[0mprecision\u001b[0m\u001b[0;34m(\u001b[0m\u001b[0;34m\"display.precision\"\u001b[0m\u001b[0;34m,\u001b[0m \u001b[0;36m8\u001b[0m\u001b[0;34m)\u001b[0m\u001b[0;34m\u001b[0m\u001b[0;34m\u001b[0m\u001b[0m\n\u001b[0m",
      "\u001b[0;31mNameError\u001b[0m: name 'pandas' is not defined"
     ]
    }
   ],
   "source": [
    "import pandas as pd\n",
    "import re\n",
    "import json\n",
    "pandas.options.display.precision(\"display.precision\", 8)"
   ]
  },
  {
   "cell_type": "code",
   "execution_count": 106,
   "metadata": {},
   "outputs": [],
   "source": [
    "def get_tensor_info(line):\n",
    "    match = re.search(\"\\w*:\\s*\\{'numel':\\s*(\\d+\\.?\\d?).*\", line)\n",
    "    if match:\n",
    "        # print(match.groups())\n",
    "        numel=int(match.group(1))\n",
    "        return numel,\n",
    "       \n",
    "def get_median(line):\n",
    "    match = re.search(\"Median:\\s*(\\d+\\.?\\d?)\\w*\", line)\n",
    "    if match:\n",
    "        # print(match.groups())\n",
    "        median = float(match.group(1))\n",
    "        return median\n",
    "\n",
    "def get_IQR(line):\n",
    "    # match = re.search(\"IQR:\\s*(\\d+\\.?\\d?)\\s*\\w*\\s*\\((\\d+\\.?\\d?)\\s*\\w*\\s*(\\d+\\.?\\d?)\\).*\", line)\n",
    "    match = re.search(\"IQR:\\s*(\\d+\\.\\d+)\\s*\\w*\\s*\\((\\d+\\.\\d+)\\s*\\w*\\s*(\\d+\\.\\d+).*\\)\", line)\n",
    "    if match:\n",
    "        # print(match.groups())\n",
    "        iqr = float(match.group(1))\n",
    "        bottom = float(match.group(2))\n",
    "        top = float(match.group(3))\n",
    "        return iqr,\n",
    "\n",
    "\n",
    "def read_fuzzer_log(path):\n",
    "\n",
    "    # Using readlines()\n",
    "    file1 = open(path, 'r')\n",
    "    Lines = file1.readlines()\n",
    "\n",
    "    count = 0\n",
    "    # Strips the newline character\n",
    "    data = []\n",
    "    row = []\n",
    "    for line in Lines:\n",
    "        count += 1\n",
    "        line = line.strip()\n",
    "\n",
    "        if line:\n",
    "            if re.search(\"x:(.*)\", line):\n",
    "                row+=get_tensor_info(line)\n",
    "            elif re.search(\"y:(.*)\", line):\n",
    "                row+=get_tensor_info(line)\n",
    "            elif re.search(\"Median:(.*)\", line):\n",
    "                row.append(get_median(line))\n",
    "            elif re.search(\"IQR:(.*)\", line):\n",
    "                # row+=get_IQR(line)\n",
    "                pass\n",
    "        else:\n",
    "            data.append(row)\n",
    "            row = []\n",
    "\n",
    "    # df= pd.DataFrame(data, columns=[\"x numel\",\"y numel\",\"Median\",\"IQR(interquartile range)\",\"low\",\"high\"])\n",
    "    df=pd.DataFrame(data, columns=[\"x numel\",\"y numel\",\"Median\"])\n",
    "    # df=pd.DataFrame(data)\n",
    "\n",
    "    df=df.set_index([\"x numel\",\"y numel\"])\n",
    "    return df\n",
    "\n",
    "\n",
    "\n",
    "# path = \"/home/fpadmin/dockerx/pytorch/fix_warpsize_issue_pt1_scripts_gfx908_128/fuzzer.log\"\n",
    "gfx908_128 = read_fuzzer_log(\"/home/fpadmin/dockerx/pytorch/fix_warpsize_issue_pt1_scripts_gfx908_gfx1030_128/fuzzer.log\")\n",
    "gfx908_256 = read_fuzzer_log(\"/home/fpadmin/dockerx/pytorch/fix_warpsize_issue_pt1_scripts_gfx908_gfx1030_256/fuzzer.log\")\n",
    "gfx1030_128 = read_fuzzer_log(\"/home/fpadmin/dockerx/pytorch/fix_warpsize_issue_pt1_scripts_gfx1030_gfx908_128/fuzzer.log\")\n",
    "gfx1030_256 = read_fuzzer_log(\"/home/fpadmin/dockerx/pytorch/fix_warpsize_issue_pt1_scripts_gfx1030_gfx908_256/fuzzer.log\")\n"
   ]
  },
  {
   "cell_type": "code",
   "execution_count": 107,
   "metadata": {},
   "outputs": [
    {
     "data": {
      "text/html": [
       "<div>\n",
       "<style scoped>\n",
       "    .dataframe tbody tr th:only-of-type {\n",
       "        vertical-align: middle;\n",
       "    }\n",
       "\n",
       "    .dataframe tbody tr th {\n",
       "        vertical-align: top;\n",
       "    }\n",
       "\n",
       "    .dataframe thead th {\n",
       "        text-align: right;\n",
       "    }\n",
       "</style>\n",
       "<table border=\"1\" class=\"dataframe\">\n",
       "  <thead>\n",
       "    <tr style=\"text-align: right;\">\n",
       "      <th></th>\n",
       "      <th></th>\n",
       "      <th>gfx908_128(us)</th>\n",
       "      <th>gfx908_256(us)</th>\n",
       "      <th>gfx1030_128(us)</th>\n",
       "      <th>gfx1030_256(us)</th>\n",
       "    </tr>\n",
       "    <tr>\n",
       "      <th>x numel</th>\n",
       "      <th>y numel</th>\n",
       "      <th></th>\n",
       "      <th></th>\n",
       "      <th></th>\n",
       "      <th></th>\n",
       "    </tr>\n",
       "  </thead>\n",
       "  <tbody>\n",
       "    <tr>\n",
       "      <th>4359168</th>\n",
       "      <th>30272</th>\n",
       "      <td>109.7</td>\n",
       "      <td>110.1</td>\n",
       "      <td>143.3</td>\n",
       "      <td>143.6</td>\n",
       "    </tr>\n",
       "    <tr>\n",
       "      <th>16384</th>\n",
       "      <th>1</th>\n",
       "      <td>5.1</td>\n",
       "      <td>5.1</td>\n",
       "      <td>4.8</td>\n",
       "      <td>4.9</td>\n",
       "    </tr>\n",
       "    <tr>\n",
       "      <th>7307264</th>\n",
       "      <th>7307264</th>\n",
       "      <td>89.1</td>\n",
       "      <td>104.2</td>\n",
       "      <td>72.5</td>\n",
       "      <td>73.7</td>\n",
       "    </tr>\n",
       "    <tr>\n",
       "      <th>11239424</th>\n",
       "      <th>11239424</th>\n",
       "      <td>1.0</td>\n",
       "      <td>1.0</td>\n",
       "      <td>1.6</td>\n",
       "      <td>1.6</td>\n",
       "    </tr>\n",
       "    <tr>\n",
       "      <th>479196</th>\n",
       "      <th>479196</th>\n",
       "      <td>72.7</td>\n",
       "      <td>72.5</td>\n",
       "      <td>59.2</td>\n",
       "      <td>59.2</td>\n",
       "    </tr>\n",
       "  </tbody>\n",
       "</table>\n",
       "</div>"
      ],
      "text/plain": [
       "                   gfx908_128(us)  gfx908_256(us)  gfx1030_128(us)  \\\n",
       "x numel  y numel                                                     \n",
       "4359168  30272              109.7           110.1            143.3   \n",
       "16384    1                    5.1             5.1              4.8   \n",
       "7307264  7307264             89.1           104.2             72.5   \n",
       "11239424 11239424             1.0             1.0              1.6   \n",
       "479196   479196              72.7            72.5             59.2   \n",
       "\n",
       "                   gfx1030_256(us)  \n",
       "x numel  y numel                    \n",
       "4359168  30272               143.6  \n",
       "16384    1                     4.9  \n",
       "7307264  7307264              73.7  \n",
       "11239424 11239424              1.6  \n",
       "479196   479196               59.2  "
      ]
     },
     "execution_count": 107,
     "metadata": {},
     "output_type": "execute_result"
    }
   ],
   "source": [
    "median_df=pd.concat([gfx908_128, gfx908_256, gfx1030_128, gfx1030_256], axis=1).set_axis([\"gfx908_128(us)\", \"gfx908_256(us)\", \"gfx1030_128(us)\", \"gfx1030_256(us)\"],axis=1)\n",
    "median_df"
   ]
  },
  {
   "cell_type": "code",
   "execution_count": 109,
   "metadata": {},
   "outputs": [
    {
     "ename": "ModuleNotFoundError",
     "evalue": "No module named 'openpyxl'",
     "output_type": "error",
     "traceback": [
      "\u001b[0;31m---------------------------------------------------------------------------\u001b[0m",
      "\u001b[0;31mModuleNotFoundError\u001b[0m                       Traceback (most recent call last)",
      "\u001b[0;32m<ipython-input-109-fdfc8a795340>\u001b[0m in \u001b[0;36m<module>\u001b[0;34m\u001b[0m\n\u001b[0;32m----> 1\u001b[0;31m \u001b[0mmedian_df\u001b[0m\u001b[0;34m.\u001b[0m\u001b[0mto_excel\u001b[0m\u001b[0;34m(\u001b[0m\u001b[0;34m\"median_df.xlsx\"\u001b[0m\u001b[0;34m)\u001b[0m\u001b[0;34m\u001b[0m\u001b[0;34m\u001b[0m\u001b[0m\n\u001b[0m",
      "\u001b[0;32m~/.local/lib/python3.6/site-packages/pandas/core/generic.py\u001b[0m in \u001b[0;36mto_excel\u001b[0;34m(self, excel_writer, sheet_name, na_rep, float_format, columns, header, index, index_label, startrow, startcol, engine, merge_cells, encoding, inf_rep, verbose, freeze_panes)\u001b[0m\n\u001b[1;32m   2030\u001b[0m             \u001b[0mstartcol\u001b[0m\u001b[0;34m=\u001b[0m\u001b[0mstartcol\u001b[0m\u001b[0;34m,\u001b[0m\u001b[0;34m\u001b[0m\u001b[0;34m\u001b[0m\u001b[0m\n\u001b[1;32m   2031\u001b[0m             \u001b[0mfreeze_panes\u001b[0m\u001b[0;34m=\u001b[0m\u001b[0mfreeze_panes\u001b[0m\u001b[0;34m,\u001b[0m\u001b[0;34m\u001b[0m\u001b[0;34m\u001b[0m\u001b[0m\n\u001b[0;32m-> 2032\u001b[0;31m             \u001b[0mengine\u001b[0m\u001b[0;34m=\u001b[0m\u001b[0mengine\u001b[0m\u001b[0;34m,\u001b[0m\u001b[0;34m\u001b[0m\u001b[0;34m\u001b[0m\u001b[0m\n\u001b[0m\u001b[1;32m   2033\u001b[0m         )\n\u001b[1;32m   2034\u001b[0m \u001b[0;34m\u001b[0m\u001b[0m\n",
      "\u001b[0;32m~/.local/lib/python3.6/site-packages/pandas/io/formats/excel.py\u001b[0m in \u001b[0;36mwrite\u001b[0;34m(self, writer, sheet_name, startrow, startcol, freeze_panes, engine)\u001b[0m\n\u001b[1;32m    728\u001b[0m             \u001b[0mneed_save\u001b[0m \u001b[0;34m=\u001b[0m \u001b[0;32mFalse\u001b[0m\u001b[0;34m\u001b[0m\u001b[0;34m\u001b[0m\u001b[0m\n\u001b[1;32m    729\u001b[0m         \u001b[0;32melse\u001b[0m\u001b[0;34m:\u001b[0m\u001b[0;34m\u001b[0m\u001b[0;34m\u001b[0m\u001b[0m\n\u001b[0;32m--> 730\u001b[0;31m             \u001b[0mwriter\u001b[0m \u001b[0;34m=\u001b[0m \u001b[0mExcelWriter\u001b[0m\u001b[0;34m(\u001b[0m\u001b[0mstringify_path\u001b[0m\u001b[0;34m(\u001b[0m\u001b[0mwriter\u001b[0m\u001b[0;34m)\u001b[0m\u001b[0;34m,\u001b[0m \u001b[0mengine\u001b[0m\u001b[0;34m=\u001b[0m\u001b[0mengine\u001b[0m\u001b[0;34m)\u001b[0m\u001b[0;34m\u001b[0m\u001b[0;34m\u001b[0m\u001b[0m\n\u001b[0m\u001b[1;32m    731\u001b[0m             \u001b[0mneed_save\u001b[0m \u001b[0;34m=\u001b[0m \u001b[0;32mTrue\u001b[0m\u001b[0;34m\u001b[0m\u001b[0;34m\u001b[0m\u001b[0m\n\u001b[1;32m    732\u001b[0m \u001b[0;34m\u001b[0m\u001b[0m\n",
      "\u001b[0;32m~/.local/lib/python3.6/site-packages/pandas/io/excel/_openpyxl.py\u001b[0m in \u001b[0;36m__init__\u001b[0;34m(self, path, engine, mode, **engine_kwargs)\u001b[0m\n\u001b[1;32m     16\u001b[0m     \u001b[0;32mdef\u001b[0m \u001b[0m__init__\u001b[0m\u001b[0;34m(\u001b[0m\u001b[0mself\u001b[0m\u001b[0;34m,\u001b[0m \u001b[0mpath\u001b[0m\u001b[0;34m,\u001b[0m \u001b[0mengine\u001b[0m\u001b[0;34m=\u001b[0m\u001b[0;32mNone\u001b[0m\u001b[0;34m,\u001b[0m \u001b[0mmode\u001b[0m\u001b[0;34m=\u001b[0m\u001b[0;34m\"w\"\u001b[0m\u001b[0;34m,\u001b[0m \u001b[0;34m**\u001b[0m\u001b[0mengine_kwargs\u001b[0m\u001b[0;34m)\u001b[0m\u001b[0;34m:\u001b[0m\u001b[0;34m\u001b[0m\u001b[0;34m\u001b[0m\u001b[0m\n\u001b[1;32m     17\u001b[0m         \u001b[0;31m# Use the openpyxl module as the Excel writer.\u001b[0m\u001b[0;34m\u001b[0m\u001b[0;34m\u001b[0m\u001b[0;34m\u001b[0m\u001b[0m\n\u001b[0;32m---> 18\u001b[0;31m         \u001b[0;32mfrom\u001b[0m \u001b[0mopenpyxl\u001b[0m\u001b[0;34m.\u001b[0m\u001b[0mworkbook\u001b[0m \u001b[0;32mimport\u001b[0m \u001b[0mWorkbook\u001b[0m\u001b[0;34m\u001b[0m\u001b[0;34m\u001b[0m\u001b[0m\n\u001b[0m\u001b[1;32m     19\u001b[0m \u001b[0;34m\u001b[0m\u001b[0m\n\u001b[1;32m     20\u001b[0m         \u001b[0msuper\u001b[0m\u001b[0;34m(\u001b[0m\u001b[0;34m)\u001b[0m\u001b[0;34m.\u001b[0m\u001b[0m__init__\u001b[0m\u001b[0;34m(\u001b[0m\u001b[0mpath\u001b[0m\u001b[0;34m,\u001b[0m \u001b[0mmode\u001b[0m\u001b[0;34m=\u001b[0m\u001b[0mmode\u001b[0m\u001b[0;34m,\u001b[0m \u001b[0;34m**\u001b[0m\u001b[0mengine_kwargs\u001b[0m\u001b[0;34m)\u001b[0m\u001b[0;34m\u001b[0m\u001b[0;34m\u001b[0m\u001b[0m\n",
      "\u001b[0;31mModuleNotFoundError\u001b[0m: No module named 'openpyxl'"
     ]
    }
   ],
   "source": [
    "median_df.to_excel(\"median_df.xlsx\")"
   ]
  },
  {
   "cell_type": "code",
   "execution_count": null,
   "metadata": {},
   "outputs": [],
   "source": []
  }
 ],
 "metadata": {
  "interpreter": {
   "hash": "31f2aee4e71d21fbe5cf8b01ff0e069b9275f58929596ceb00d14d90e3e16cd6"
  },
  "kernelspec": {
   "display_name": "Python 3.6.9 64-bit",
   "language": "python",
   "name": "python3"
  },
  "language_info": {
   "codemirror_mode": {
    "name": "ipython",
    "version": 3
   },
   "file_extension": ".py",
   "mimetype": "text/x-python",
   "name": "python",
   "nbconvert_exporter": "python",
   "pygments_lexer": "ipython3",
   "version": "3.6.9"
  },
  "orig_nbformat": 4
 },
 "nbformat": 4,
 "nbformat_minor": 2
}
